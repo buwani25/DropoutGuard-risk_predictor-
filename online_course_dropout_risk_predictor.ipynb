{
 "cells": [
  {
   "cell_type": "code",
   "execution_count": null,
   "id": "3fa28a50-5d49-4be9-bd6a-b253c064b05e",
   "metadata": {},
   "outputs": [],
   "source": [
    "# Imports\n",
    "import pandas as pd\n",
    "import numpy as np\n",
    "from sklearn.model_selection import train_test_split\n",
    "from sklearn.linear_model import LogisticRegression\n",
    "from sklearn.metrics import classification_report, accuracy_score\n",
    "import ipywidgets as widgets\n",
    "from IPython.display import display, clear_output\n"
   ]
  },
  {
   "cell_type": "code",
   "execution_count": null,
   "id": "b48fbc46-cf92-4952-8ff8-a6f5d5691157",
   "metadata": {},
   "outputs": [],
   "source": [
    "#  Create Synthetic Dataset\n",
    "np.random.seed(42)\n",
    "n = 200"
   ]
  },
  {
   "cell_type": "code",
   "execution_count": null,
   "id": "84d325af-084b-499f-a9ed-f31443ecfa2b",
   "metadata": {},
   "outputs": [
    {
     "data": {
      "text/html": [
       "<div>\n",
       "<style scoped>\n",
       "    .dataframe tbody tr th:only-of-type {\n",
       "        vertical-align: middle;\n",
       "    }\n",
       "\n",
       "    .dataframe tbody tr th {\n",
       "        vertical-align: top;\n",
       "    }\n",
       "\n",
       "    .dataframe thead th {\n",
       "        text-align: right;\n",
       "    }\n",
       "</style>\n",
       "<table border=\"1\" class=\"dataframe\">\n",
       "  <thead>\n",
       "    <tr style=\"text-align: right;\">\n",
       "      <th></th>\n",
       "      <th>video_watch_time</th>\n",
       "      <th>quiz_scores_avg</th>\n",
       "      <th>forum_activity</th>\n",
       "      <th>assignments_submitted</th>\n",
       "      <th>dropout</th>\n",
       "    </tr>\n",
       "  </thead>\n",
       "  <tbody>\n",
       "    <tr>\n",
       "      <th>0</th>\n",
       "      <td>112</td>\n",
       "      <td>81</td>\n",
       "      <td>18</td>\n",
       "      <td>4</td>\n",
       "      <td>0</td>\n",
       "    </tr>\n",
       "    <tr>\n",
       "      <th>1</th>\n",
       "      <td>280</td>\n",
       "      <td>0</td>\n",
       "      <td>27</td>\n",
       "      <td>5</td>\n",
       "      <td>1</td>\n",
       "    </tr>\n",
       "    <tr>\n",
       "      <th>2</th>\n",
       "      <td>116</td>\n",
       "      <td>10</td>\n",
       "      <td>25</td>\n",
       "      <td>2</td>\n",
       "      <td>1</td>\n",
       "    </tr>\n",
       "    <tr>\n",
       "      <th>3</th>\n",
       "      <td>81</td>\n",
       "      <td>91</td>\n",
       "      <td>36</td>\n",
       "      <td>7</td>\n",
       "      <td>0</td>\n",
       "    </tr>\n",
       "    <tr>\n",
       "      <th>4</th>\n",
       "      <td>198</td>\n",
       "      <td>56</td>\n",
       "      <td>25</td>\n",
       "      <td>0</td>\n",
       "      <td>1</td>\n",
       "    </tr>\n",
       "  </tbody>\n",
       "</table>\n",
       "</div>"
      ],
      "text/plain": [
       "   video_watch_time  quiz_scores_avg  forum_activity  assignments_submitted  \\\n",
       "0               112               81              18                      4   \n",
       "1               280                0              27                      5   \n",
       "2               116               10              25                      2   \n",
       "3                81               91              36                      7   \n",
       "4               198               56              25                      0   \n",
       "\n",
       "   dropout  \n",
       "0        0  \n",
       "1        1  \n",
       "2        1  \n",
       "3        0  \n",
       "4        1  "
      ]
     },
     "execution_count": 156,
     "metadata": {},
     "output_type": "execute_result"
    }
   ],
   "source": [
    "data = {\n",
    "    \"video_watch_time\": np.random.randint(10, 300, n),\n",
    "    \"quiz_scores_avg\": np.random.randint(0, 100, n),\n",
    "    \"forum_activity\": np.random.randint(0, 50, n),\n",
    "    \"assignments_submitted\": np.random.randint(0, 10, n),\n",
    "}\n",
    "\n",
    "df = pd.DataFrame(data)\n",
    "\n",
    "# Dropout rule for synthetic target\n",
    "df[\"dropout\"] = (\n",
    "    (df[\"video_watch_time\"] < 60) |\n",
    "    (df[\"quiz_scores_avg\"] < 40) |\n",
    "    (df[\"assignments_submitted\"] < 3)\n",
    ").astype(int)\n",
    "df.head()"
   ]
  },
  {
   "cell_type": "code",
   "execution_count": null,
   "id": "0c3c2651-260f-4cf8-9abc-931f4e28ed35",
   "metadata": {},
   "outputs": [
    {
     "name": "stdout",
     "output_type": "stream",
     "text": [
      "Accuracy: 0.9\n",
      "              precision    recall  f1-score   support\n",
      "\n",
      "           0       0.86      0.86      0.86        14\n",
      "           1       0.92      0.92      0.92        26\n",
      "\n",
      "    accuracy                           0.90        40\n",
      "   macro avg       0.89      0.89      0.89        40\n",
      "weighted avg       0.90      0.90      0.90        40\n",
      "\n"
     ]
    }
   ],
   "source": [
    "# Features and target\n",
    "X = df.drop(\"dropout\", axis=1)\n",
    "y = df[\"dropout\"]\n",
    "\n",
    "# Keep feature names consistent\n",
    "feature_names = X.columns\n",
    "\n",
    "# Split dataset\n",
    "X_train, X_test, y_train, y_test = train_test_split(\n",
    "    X[feature_names], y, test_size=0.2, random_state=42\n",
    ")\n",
    "\n",
    "# Train model\n",
    "model = LogisticRegression()\n",
    "model.fit(X_train, y_train)\n",
    "\n",
    "# Predict on test set\n",
    "X_test_df = pd.DataFrame(X_test, columns=feature_names)\n",
    "y_pred = model.predict(X_test_df)\n",
    "print(\"Accuracy:\", accuracy_score(y_test, y_pred))\n",
    "print(classification_report(y_test, y_pred))\n"
   ]
  },
  {
   "cell_type": "code",
   "execution_count": null,
   "id": "d9e9a0f7-064c-4af4-a9e4-49a3a69fd9ef",
   "metadata": {},
   "outputs": [],
   "source": [
    "# Function for new predictions\n",
    "def predict_dropout(video_watch_time, quiz_scores_avg, forum_activity, assignments_submitted):\n",
    "    input_df = pd.DataFrame(\n",
    "        [[video_watch_time, quiz_scores_avg, forum_activity, assignments_submitted]],\n",
    "        columns=feature_names\n",
    "    )\n",
    "    prob = model.predict_proba(input_df)[0][1]  # probability of dropout\n",
    "    prediction = model.predict(input_df)[0]\n",
    "    return prediction, round(prob*100, 2)\n",
    "\n"
   ]
  },
  {
   "cell_type": "code",
   "execution_count": null,
   "id": "dbbcfea3-916c-4438-ad40-c10d46937b10",
   "metadata": {},
   "outputs": [],
   "source": [
    "import ipywidgets as widgets\n",
    "widgets.IntSlider()\n",
    "from IPython.display import display, clear_output"
   ]
  },
  {
   "cell_type": "code",
   "execution_count": null,
   "id": "4038c2ab-4a0f-4972-823c-8eae4f59050e",
   "metadata": {},
   "outputs": [],
   "source": [
    "video_watch_time = widgets.IntSlider(description=\"Video Time(minutes) :\", min=0, max=300, value=60,style={'description_width': '130px'})\n",
    "quiz_scores_avg = widgets.IntSlider(description=\"Quiz Avg % :\", min=0, max=100, value=50,style={'description_width': '78px'})\n",
    "forum_activity = widgets.IntSlider(description=\"Forum Posts :\", min=0, max=50, value=5)\n",
    "assignments_submitted = widgets.IntSlider(description=\"Assignments :\", min=0, max=10, value=2)\n",
    "\n",
    "button = widgets.Button(description=\"Predict Dropout\", button_style='warning')"
   ]
  },
  {
   "cell_type": "code",
   "execution_count": null,
   "id": "46b5eef6-96fa-44b4-8323-299ce9d232d4",
   "metadata": {},
   "outputs": [
    {
     "data": {
      "application/vnd.jupyter.widget-view+json": {
       "model_id": "3dd77166a8224f0897663ac5232204d7",
       "version_major": 2,
       "version_minor": 0
      },
      "text/plain": [
       "VBox(children=(HTML(value=\"<h2 style='color:black; font-weight:bold;'>Online Course Dropout Risk Predictor</h2…"
      ]
     },
     "metadata": {},
     "output_type": "display_data"
    }
   ],
   "source": [
    "output = widgets.Output()\n",
    "\n",
    "# Button click callback\n",
    "def on_button_click(b):\n",
    "    with output:\n",
    "        output.clear_output(wait=True)\n",
    "        pred, prob = predict_dropout(\n",
    "            video_watch_time.value,\n",
    "            quiz_scores_avg.value,\n",
    "            forum_activity.value,\n",
    "            assignments_submitted.value\n",
    "        )\n",
    "        status = \"❌ High Dropout Risk\" if pred == 1 else \"✅ Low Dropout Risk\"\n",
    "        print(f\"{status} (Probability: {prob}%)\")\n",
    "\n",
    "button.on_click(on_button_click)\n",
    "\n",
    "# Heading\n",
    "heading = widgets.HTML(value=\"<h2 style='color:black; font-weight:bold;'>Online Course Dropout Risk Predictor</h2>\")\n",
    "\n",
    "# Display UI with heading\n",
    "ui = widgets.VBox([\n",
    "    heading,\n",
    "    video_watch_time,\n",
    "    quiz_scores_avg,\n",
    "    forum_activity,\n",
    "    assignments_submitted,\n",
    "    button,\n",
    "    output\n",
    "])\n",
    "display(ui)"
   ]
  },
  {
   "cell_type": "code",
   "execution_count": null,
   "id": "84c82382-ca31-4d5b-a823-b013a24dc0c2",
   "metadata": {},
   "outputs": [],
   "source": []
  }
 ],
 "metadata": {
  "kernelspec": {
   "display_name": "Python [conda env:base] *",
   "language": "python",
   "name": "conda-base-py"
  },
  "language_info": {
   "codemirror_mode": {
    "name": "ipython",
    "version": 3
   },
   "file_extension": ".py",
   "mimetype": "text/x-python",
   "name": "python",
   "nbconvert_exporter": "python",
   "pygments_lexer": "ipython3",
   "version": "3.13.5"
  }
 },
 "nbformat": 4,
 "nbformat_minor": 5
}
